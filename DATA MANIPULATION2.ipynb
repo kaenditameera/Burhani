{
 "cells": [
  {
   "cell_type": "code",
   "execution_count": 37,
   "id": "49570852",
   "metadata": {},
   "outputs": [],
   "source": [
    "import numpy as np\n",
    "import pandas as pd\n",
    "import matplotlib as plt\n",
    "import seaborn as sns\n",
    "\n"
   ]
  },
  {
   "cell_type": "code",
   "execution_count": 38,
   "id": "7525dd7a",
   "metadata": {},
   "outputs": [
    {
     "data": {
      "text/html": [
       "<div>\n",
       "<style scoped>\n",
       "    .dataframe tbody tr th:only-of-type {\n",
       "        vertical-align: middle;\n",
       "    }\n",
       "\n",
       "    .dataframe tbody tr th {\n",
       "        vertical-align: top;\n",
       "    }\n",
       "\n",
       "    .dataframe thead th {\n",
       "        text-align: right;\n",
       "    }\n",
       "</style>\n",
       "<table border=\"1\" class=\"dataframe\">\n",
       "  <thead>\n",
       "    <tr style=\"text-align: right;\">\n",
       "      <th></th>\n",
       "      <th>DECRIPTION</th>\n",
       "      <th>QUANTITIES</th>\n",
       "      <th>NEEDED_QUANTITIES</th>\n",
       "      <th>ISSUED</th>\n",
       "      <th>BALANCE</th>\n",
       "      <th>AVAILABLE</th>\n",
       "      <th>PROCUREMENT</th>\n",
       "    </tr>\n",
       "  </thead>\n",
       "  <tbody>\n",
       "    <tr>\n",
       "      <th>0</th>\n",
       "      <td>STRAIGHT SHACKLE GN - 16T</td>\n",
       "      <td>1</td>\n",
       "      <td>123</td>\n",
       "      <td>120</td>\n",
       "      <td>3</td>\n",
       "      <td>3</td>\n",
       "      <td>0</td>\n",
       "    </tr>\n",
       "    <tr>\n",
       "      <th>1</th>\n",
       "      <td>BALL EYE ABC-16-P</td>\n",
       "      <td>1</td>\n",
       "      <td>123</td>\n",
       "      <td>120</td>\n",
       "      <td>3</td>\n",
       "      <td>3</td>\n",
       "      <td>0</td>\n",
       "    </tr>\n",
       "    <tr>\n",
       "      <th>2</th>\n",
       "      <td>ARCHING HORN DC-35/19</td>\n",
       "      <td>2</td>\n",
       "      <td>246</td>\n",
       "      <td>120</td>\n",
       "      <td>126</td>\n",
       "      <td>126</td>\n",
       "      <td>0</td>\n",
       "    </tr>\n",
       "    <tr>\n",
       "      <th>3</th>\n",
       "      <td>BALL SOCKET RC -16-P/36</td>\n",
       "      <td>1</td>\n",
       "      <td>123</td>\n",
       "      <td>120</td>\n",
       "      <td>3</td>\n",
       "      <td>3</td>\n",
       "      <td>0</td>\n",
       "    </tr>\n",
       "    <tr>\n",
       "      <th>4</th>\n",
       "      <td>ARCHING HORN DC-35/11</td>\n",
       "      <td>2</td>\n",
       "      <td>246</td>\n",
       "      <td>120</td>\n",
       "      <td>126</td>\n",
       "      <td>126</td>\n",
       "      <td>0</td>\n",
       "    </tr>\n",
       "  </tbody>\n",
       "</table>\n",
       "</div>"
      ],
      "text/plain": [
       "                  DECRIPTION  QUANTITIES  NEEDED_QUANTITIES  ISSUED  BALANCE  \\\n",
       "0  STRAIGHT SHACKLE GN - 16T           1                123     120        3   \n",
       "1          BALL EYE ABC-16-P           1                123     120        3   \n",
       "2      ARCHING HORN DC-35/19           2                246     120      126   \n",
       "3    BALL SOCKET RC -16-P/36           1                123     120        3   \n",
       "4      ARCHING HORN DC-35/11           2                246     120      126   \n",
       "\n",
       "   AVAILABLE  PROCUREMENT  \n",
       "0          3            0  \n",
       "1          3            0  \n",
       "2        126            0  \n",
       "3          3            0  \n",
       "4        126            0  "
      ]
     },
     "execution_count": 38,
     "metadata": {},
     "output_type": "execute_result"
    }
   ],
   "source": [
    "df=pd.read_csv(\"WORKBOOK3.csv\")\n",
    "df.head()"
   ]
  },
  {
   "cell_type": "code",
   "execution_count": 39,
   "id": "d3e8bcf9",
   "metadata": {},
   "outputs": [
    {
     "data": {
      "text/plain": [
       "DECRIPTION           0\n",
       "QUANTITIES           0\n",
       "NEEDED_QUANTITIES    0\n",
       "ISSUED               0\n",
       "BALANCE              0\n",
       "AVAILABLE            0\n",
       "PROCUREMENT          0\n",
       "dtype: int64"
      ]
     },
     "execution_count": 39,
     "metadata": {},
     "output_type": "execute_result"
    }
   ],
   "source": [
    "df.isnull().sum()"
   ]
  },
  {
   "cell_type": "code",
   "execution_count": 40,
   "id": "b529e0cd",
   "metadata": {},
   "outputs": [
    {
     "name": "stdout",
     "output_type": "stream",
     "text": [
      "Unique Items in DESCRIPTION column:\n",
      "['STRAIGHT SHACKLE GN - 16T' 'BALL EYE ABC-16-P' 'ARCHING HORN DC-35/19'\n",
      " 'BALL SOCKET RC -16-P/36' 'ARCHING HORN DC-35/11'\n",
      " 'SUSPENSION CLAMP GST -5' 'ARMOR RODS VPAL - 188-199/D'\n",
      " 'STRAIGHT SHACKLE GN-16T' 'CHAIN LINK ES-16/20'\n",
      " 'TRIANGULAR YOKE Y-16/400-14' 'ARCHING HORN DI-35/19'\n",
      " 'BALL CLEVIS HPB-16' 'CLEVIS SOCKET RH-16' 'ARCHING HORN DI-35/13'\n",
      " 'CLEVIS EYE HR-16/45' 'SUSPENSION CLAMP GST - 5'\n",
      " 'ARMOR RODS VPAL-188-199/D' 'SOCKET EYE RC -16-P/21'\n",
      " 'JUMPER TERMINAL DC-38.5' 'COMPRESSION CLAMP CH-226 C/W EYE TERMINAL'\n",
      " 'YOKE PLATE Y-16/400-14' 'CLEVIS BALL HBP - 16' 'CLEVIS EYE HR-16/21']\n"
     ]
    }
   ],
   "source": [
    "unique_items = df['DECRIPTION'].unique()\n",
    "\n",
    "# Step 2: Print the unique items\n",
    "print(\"Unique Items in DESCRIPTION column:\")\n",
    "print(unique_items)"
   ]
  },
  {
   "cell_type": "code",
   "execution_count": 41,
   "id": "443b429b",
   "metadata": {},
   "outputs": [
    {
     "name": "stdout",
     "output_type": "stream",
     "text": [
      "STRAIGHT SHACKLE GN - 16T                    9\n",
      "SUSPENSION CLAMP GST -5                      6\n",
      "ARMOR RODS VPAL-188-199/D                    6\n",
      "BALL EYE ABC-16-P                            6\n",
      "TRIANGULAR YOKE Y-16/400-14                  4\n",
      "JUMPER TERMINAL DC-38.5                      4\n",
      "ARCHING HORN DI-35/13                        4\n",
      "CLEVIS SOCKET RH-16                          4\n",
      "ARCHING HORN DI-35/19                        4\n",
      "ARCHING HORN DC-35/11                        4\n",
      "ARCHING HORN DC-35/19                        4\n",
      "CHAIN LINK ES-16/20                          3\n",
      "CLEVIS BALL HBP-16                           3\n",
      "BALL SOCKET RC -16-P/36                      3\n",
      "CLEVIS EYE HR-16/45                          3\n",
      "COMPRESSION CLAMP CH-226 C/W EYE TERMINAL    3\n",
      "SOCKET EYE RC -16-P/21                       2\n",
      "CLEVIS EYE HR-16/21                          1\n",
      "Name: DECRIPTION, dtype: int64\n"
     ]
    }
   ],
   "source": [
    "\n",
    "\n",
    "\n",
    "# Drop duplicate rows\n",
    "#unique_df = df.drop_duplicates()\n",
    "\n",
    "\n",
    "# Update the 'DESCRIPTION' values to remove spaces around the hyphen\n",
    "df['DECRIPTION'] = df['DECRIPTION'].str.replace(' - ', '-')\n",
    "\n",
    "df['DECRIPTION'] = df['DECRIPTION'].replace({\"BALL CLEVIS HPB-16\": \"CLEVIS BALL HBP-16\"})\n",
    "df['DECRIPTION'] = df['DECRIPTION'].replace({\"YOKE PLATE Y-16/400-14\": \"TRIANGULAR YOKE Y-16/400-14\"})\n",
    "df['DECRIPTION'] = df['DECRIPTION'].replace({\"SUSPENSION CLAMP GST-5\": \"SUSPENSION CLAMP GST -5\"})\n",
    "# Combine the counts of \"STRAIGHT SHACKLE GN - 16T\" and \"STRAIGHT SHACKLE GN-16T\"\n",
    "combined_count = (\n",
    "    df['DECRIPTION']\n",
    "    .replace({\"STRAIGHT SHACKLE GN-16T\": \"STRAIGHT SHACKLE GN - 16T\"})\n",
    "    .value_counts()\n",
    ")\n",
    "\n",
    "\n",
    "# Print the combined count\n",
    "print(combined_count)"
   ]
  },
  {
   "cell_type": "code",
   "execution_count": 42,
   "id": "7939e0eb",
   "metadata": {},
   "outputs": [
    {
     "data": {
      "text/plain": [
       "(73, 7)"
      ]
     },
     "execution_count": 42,
     "metadata": {},
     "output_type": "execute_result"
    }
   ],
   "source": [
    "df.shape"
   ]
  },
  {
   "cell_type": "code",
   "execution_count": 43,
   "id": "f3a9f056",
   "metadata": {},
   "outputs": [],
   "source": [
    "grouped_df = df.groupby('DECRIPTION').agg({\n",
    "    'QUANTITIES' :'sum',         \n",
    "    'NEEDED_QUANTITIES' :'sum',   \n",
    "    'ISSUED':'sum',               \n",
    "    'BALANCE':'sum',              \n",
    "    'AVAILABLE':'sum',            \n",
    "    'PROCUREMENT':'sum',\n",
    "    \n",
    "}).reset_index()"
   ]
  },
  {
   "cell_type": "code",
   "execution_count": 45,
   "id": "9a8f8f32",
   "metadata": {},
   "outputs": [],
   "source": [
    "item_totals = grouped_df.groupby('DECRIPTION').sum().reset_index()"
   ]
  },
  {
   "cell_type": "code",
   "execution_count": 46,
   "id": "867e0d32",
   "metadata": {},
   "outputs": [
    {
     "name": "stdout",
     "output_type": "stream",
     "text": [
      "\n",
      "Item Totals:\n",
      "                                   DECRIPTION  QUANTITIES  NEEDED_QUANTITIES  \\\n",
      "0                       ARCHING HORN DC-35/11           6                375   \n",
      "1                       ARCHING HORN DC-35/19           6                375   \n",
      "2                       ARCHING HORN DI-35/13           7                243   \n",
      "3                       ARCHING HORN DI-35/19           7                243   \n",
      "4                   ARMOR RODS VPAL-188-199/D           6                243   \n",
      "5                           BALL EYE ABC-16-P           7                312   \n",
      "6                     BALL SOCKET RC -16-P/36           3                147   \n",
      "7                         CHAIN LINK ES-16/20           3                123   \n",
      "8                          CLEVIS BALL HBP-16           6                246   \n",
      "9                         CLEVIS EYE HR-16/21           1                 51   \n",
      "10                        CLEVIS EYE HR-16/45           3                 96   \n",
      "11                        CLEVIS SOCKET RH-16           8                294   \n",
      "12  COMPRESSION CLAMP CH-226 C/W EYE TERMINAL           3                168   \n",
      "13                    JUMPER TERMINAL DC-38.5           5                204   \n",
      "14                     SOCKET EYE RC -16-P/21           2                117   \n",
      "15                    STRAIGHT SHACKLE GN-16T          13                558   \n",
      "16                    SUSPENSION CLAMP GST -5           6                243   \n",
      "17                TRIANGULAR YOKE Y-16/400-14           7                270   \n",
      "\n",
      "    ISSUED  BALANCE  AVAILABLE  PROCUREMENT  \n",
      "0      183      192        192            0  \n",
      "1      183      192        192            0  \n",
      "2       91      152          3          149  \n",
      "3       91      152          4          148  \n",
      "4      140      103        103            0  \n",
      "5      183      129        129            0  \n",
      "6      120       27          9           18  \n",
      "7       71       52          0           52  \n",
      "8      142      104          0          104  \n",
      "9       33       18          0           18  \n",
      "10      20       76         46           30  \n",
      "11     142      152         62           90  \n",
      "12     114       54         54            0  \n",
      "13     114       90         47           36  \n",
      "14      63       54         51            3  \n",
      "15     325      233        233            0  \n",
      "16     140      103        103            0  \n",
      "17     142      128         42           86  \n"
     ]
    }
   ],
   "source": [
    "print(\"\\nItem Totals:\")\n",
    "print(item_totals)"
   ]
  },
  {
   "cell_type": "code",
   "execution_count": 48,
   "id": "9f759e03",
   "metadata": {},
   "outputs": [
    {
     "name": "stdout",
     "output_type": "stream",
     "text": [
      "DataFrame has been exported to: ~/Desktop/analysis.csv\n"
     ]
    }
   ],
   "source": [
    "desktop_path = '~/Desktop/analysis.csv'\n",
    "grouped_df.to_csv(desktop_path, index=False)\n",
    "\n",
    "print(f\"DataFrame has been exported to: {desktop_path}\")"
   ]
  },
  {
   "cell_type": "code",
   "execution_count": null,
   "id": "3aa6d76f",
   "metadata": {},
   "outputs": [],
   "source": []
  }
 ],
 "metadata": {
  "kernelspec": {
   "display_name": "Python 3 (ipykernel)",
   "language": "python",
   "name": "python3"
  },
  "language_info": {
   "codemirror_mode": {
    "name": "ipython",
    "version": 3
   },
   "file_extension": ".py",
   "mimetype": "text/x-python",
   "name": "python",
   "nbconvert_exporter": "python",
   "pygments_lexer": "ipython3",
   "version": "3.11.3"
  }
 },
 "nbformat": 4,
 "nbformat_minor": 5
}
